{
 "cells": [
  {
   "cell_type": "code",
   "execution_count": 1,
   "id": "aging-there",
   "metadata": {},
   "outputs": [],
   "source": [
    "import numpy as np\n",
    "import math\n",
    "import pandas as pd \n",
    "import seaborn as sns \n",
    "from itertools import combinations\n",
    "from functools import reduce\n",
    "from scipy.special import binom\n",
    "import matplotlib.pyplot as plt"
   ]
  },
  {
   "cell_type": "code",
   "execution_count": 59,
   "id": "filled-cross",
   "metadata": {},
   "outputs": [],
   "source": [
    "# parameters of queue \n",
    "lbd = 700;                     # lambda == średnia częstość przybywania zgłoszeń do systemu\n",
    "mu = [100,100,100, 80, 80]       # mu == średni czas obsługi zgłoszeń przez system [kanły typu - 1 x3, kanały typu - 2 x2]\n",
    "ro = [lbd / i for i in mu]     # ro == intensywność obciążenia\n",
    "m = len(mu)\n",
    "N = 4; "
   ]
  },
  {
   "cell_type": "code",
   "execution_count": 3,
   "id": "motivated-evanescence",
   "metadata": {},
   "outputs": [
    {
     "data": {
      "text/plain": [
       "<Figure size 1152x576 with 0 Axes>"
      ]
     },
     "metadata": {},
     "output_type": "display_data"
    },
    {
     "data": {
      "image/png": "[encoded data removed]",
      "text/plain": [
       "<Figure size 360x360 with 1 Axes>"
      ]
     },
     "metadata": {
      "needs_background": "light"
     },
     "output_type": "display_data"
    }
   ],
   "source": [
    "ia_times = list(np.random.exponential(scale=1/lbd,size=1000))\n",
    "#plotting data\n",
    "plt.figure(figsize=(16,8))\n",
    "sns.displot(ia_times,kde=False,color='r',bins=20)\n",
    "plt.title('Time between Arrivals')\n",
    "plt.xlabel('Second')\n",
    "plt.ylabel('Frequency')\n",
    "sns.despine()\n",
    "plt.show()"
   ]
  },
  {
   "cell_type": "code",
   "execution_count": 4,
   "id": "indoor-fireplace",
   "metadata": {},
   "outputs": [],
   "source": [
    "def get_SK(k, ro):\n",
    "    SK = combinations(ro, k)\n",
    "    SK_val = [reduce(lambda x, y: x*y, i) for i in SK]\n",
    "    return np.sum(SK_val)"
   ]
  },
  {
   "cell_type": "code",
   "execution_count": 60,
   "id": "structured-disaster",
   "metadata": {},
   "outputs": [
    {
     "name": "stdout",
     "output_type": "stream",
     "text": [
      "1.5217391304347827\n"
     ]
    }
   ],
   "source": [
    "def init_cond(m, ro):\n",
    "    return get_SK(m, ro)/ get_SK(m-1, ro)\n",
    "\n",
    "print(init_cond(m,ro))"
   ]
  },
  {
   "cell_type": "code",
   "execution_count": 54,
   "id": "gothic-decade",
   "metadata": {},
   "outputs": [],
   "source": [
    "def get_pi0(m, N, ro):\n",
    "    s1 = np.sum([get_SK(i, ro)/(math.factorial(i)*binom(m, i)) for i in range(1, m)])\n",
    "    if init_cond(m, ro) == 1:\n",
    "        s2 = np.sum([(get_SK(m, ro)*(N+1))/math.factorial(m) for i in range(m, m+N)])\n",
    "        return (1+s1+s2)**(-1)\n",
    "    else:\n",
    "        s2 = (get_SK(m,ro)/math.factorial(m)) * ((1-(init_cond(m,ro)**(N+1)))/(1-init_cond(m,ro)))\n",
    "        return (1+s1+s2)**(-1)\n",
    "    "
   ]
  },
  {
   "cell_type": "code",
   "execution_count": 7,
   "id": "medical-acrylic",
   "metadata": {},
   "outputs": [],
   "source": [
    "def get_pi(i, m, N, ro, pi0):\n",
    "    if i in range(1,m):\n",
    "        return pi0*get_SK(i, ro)/(math.factorial(i)*binom(m, i))\n",
    "    elif i in range(m, m+N):\n",
    "        return pi0*(np.power(get_SK(m,ro),(i-m+1)))/(math.factorial(m)*np.power(get_SK(m-1, ro),(i-m)))"
   ]
  },
  {
   "cell_type": "code",
   "execution_count": 8,
   "id": "digital-velvet",
   "metadata": {},
   "outputs": [],
   "source": [
    "def job_lost_prob(m,N,ro, pi0):\n",
    "    return ((get_SK(m,ro)**(N+1))/(math.factorial(m)*(get_SK(m-1,ro)**N)))*pi0"
   ]
  },
  {
   "cell_type": "code",
   "execution_count": 9,
   "id": "institutional-pilot",
   "metadata": {},
   "outputs": [],
   "source": [
    "def mean_busy_servers(m, N, ro, pi0):\n",
    "    return (m*init_cond(m,ro))*(1-((get_SK(m,ro)**(N+1))/(math.factorial(m)*(get_SK(m-1,ro)**(N))))*pi0)"
   ]
  },
  {
   "cell_type": "code",
   "execution_count": 63,
   "id": "requested-franklin",
   "metadata": {},
   "outputs": [],
   "source": [
    "def mean_q_size(m, N, ro, pi0):\n",
    "    if init_cond(m, ro) >= 0.97 and init_cond(m, ro) <= 1.03:\n",
    "        return (get_SK(m,ro)/(2*math.factorial(m)))*N*(N+1)*pi0\n",
    "    else:\n",
    "        return ((get_SK(m,ro)**2)/math.factorial(m)) * get_SK(m-1,ro) * ((1-(np.power(init_cond(m,ro),N)*(1-N*(1-init_cond(m, ro)))))\n",
    "                                                                       /((get_SK(m-1, ro) - get_SK(m, ro))**2))*pi0"
   ]
  },
  {
   "cell_type": "code",
   "execution_count": 11,
   "id": "scientific-recognition",
   "metadata": {},
   "outputs": [],
   "source": [
    "# parameters of queue \n",
    "lbd = 1;                     # lambda == średnia częstość przybywania zgłoszeń do systemu\n",
    "mu = [2, 4]       # mu == średni czas obsługi zgłoszeń przez system [kanły typu - 1 x3, kanały typu - 2 x2]\n",
    "ro = [lbd / i for i in mu]     # ro == intensywność obciążenia\n",
    "m = len(mu)\n",
    "N = 100; "
   ]
  },
  {
   "cell_type": "code",
   "execution_count": 64,
   "id": "fabulous-convert",
   "metadata": {},
   "outputs": [
    {
     "data": {
      "image/png": "[encoded data removed]",
      "text/plain": [
       "<Figure size 720x720 with 1 Axes>"
      ]
     },
     "metadata": {
      "needs_background": "light"
     },
     "output_type": "display_data"
    }
   ],
   "source": [
    "pi0 = get_pi0(m, N, ro)\n",
    "pi = [get_pi(i, m, N, ro, pi0) for i in range(1, m+N+1)]\n",
    "pi = [pi0] + pi\n",
    "\n",
    "nums = range(m+N+1)\n",
    "\n",
    "plt.figure(figsize=(10,10))\n",
    "plt.title('pi(i), i=(1,2,...,m+N)')\n",
    "plt.plot(nums, pi)\n",
    "    \n",
    "plt.xlabel('i')\n",
    "plt.ylabel('pi')\n",
    "plt.grid()\n",
    "plt.show()"
   ]
  },
  {
   "cell_type": "code",
   "execution_count": 65,
   "id": "lasting-probe",
   "metadata": {},
   "outputs": [
    {
     "name": "stdout",
     "output_type": "stream",
     "text": [
      "Prawdopodobieństwo odmowy:  0.35989018544703805\n",
      "Średnia liczba zajętych kanałów obsługi:  4.870400762902972\n",
      "Średnia liczba zgłoszeń w kolejce:  0.6711338901170152\n",
      "Średni czas oczekiwania zgłoszenia:  0.0009587627001671645\n",
      "Średni czas w systemie: 0.007916478075742838\n"
     ]
    }
   ],
   "source": [
    "print(\"Prawdopodobieństwo odmowy: \", job_lost_prob(m,N,ro, pi0))\n",
    "print(\"Średnia liczba zajętych kanałów obsługi: \", mean_busy_servers(m,N,ro,pi0))\n",
    "print(\"Średnia liczba zgłoszeń w kolejce: \", mean_q_size(m,N,ro, pi0))\n",
    "print(\"Średni czas oczekiwania zgłoszenia: \", mean_q_size(m,N,ro, pi0)/lbd)\n",
    "print(\"Średni czas w systemie:\", (mean_q_size(m,N,ro, pi0)+mean_busy_servers(m,N,ro,pi0))/lbd)"
   ]
  },
  {
   "cell_type": "code",
   "execution_count": 14,
   "id": "rotary-smith",
   "metadata": {},
   "outputs": [
    {
     "data": {
      "text/plain": [
       "<itertools.combinations at 0x165fa5e70e0>"
      ]
     },
     "execution_count": 14,
     "metadata": {},
     "output_type": "execute_result"
    }
   ],
   "source": [
    "combinations(ro, 0)"
   ]
  },
  {
   "cell_type": "code",
   "execution_count": 15,
   "id": "fleet-major",
   "metadata": {},
   "outputs": [
    {
     "data": {
      "text/plain": [
       "[()]"
      ]
     },
     "execution_count": 15,
     "metadata": {},
     "output_type": "execute_result"
    }
   ],
   "source": [
    "list(combinations(ro,0))"
   ]
  },
  {
   "cell_type": "code",
   "execution_count": 16,
   "id": "written-parliament",
   "metadata": {},
   "outputs": [
    {
     "data": {
      "text/plain": [
       "0.0"
      ]
     },
     "execution_count": 16,
     "metadata": {},
     "output_type": "execute_result"
    }
   ],
   "source": [
    "np.sum(list(combinations(ro,0)))"
   ]
  },
  {
   "cell_type": "code",
   "execution_count": 17,
   "id": "assured-compatibility",
   "metadata": {},
   "outputs": [
    {
     "data": {
      "text/plain": [
       "0.0"
      ]
     },
     "execution_count": 17,
     "metadata": {},
     "output_type": "execute_result"
    }
   ],
   "source": [
    "np.sum(0.0)"
   ]
  },
  {
   "cell_type": "code",
   "execution_count": null,
   "id": "equal-probability",
   "metadata": {},
   "outputs": [],
   "source": []
  }
 ],
 "metadata": {
  "kernelspec": {
   "display_name": "Python 3",
   "language": "python",
   "name": "python3"
  },
  "language_info": {
   "codemirror_mode": {
    "name": "ipython",
    "version": 3
   },
   "file_extension": ".py",
   "mimetype": "text/x-python",
   "name": "python",
   "nbconvert_exporter": "python",
   "pygments_lexer": "ipython3",
   "version": "3.9.2"
  }
 },
 "nbformat": 4,
 "nbformat_minor": 5
}
